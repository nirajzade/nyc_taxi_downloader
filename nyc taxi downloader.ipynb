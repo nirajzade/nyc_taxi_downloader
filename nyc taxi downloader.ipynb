{
 "cells": [
  {
   "cell_type": "code",
   "execution_count": 2,
   "metadata": {},
   "outputs": [],
   "source": [
    "#!/usr/bin/python3\n",
    "import requests\n",
    "import logging\n",
    "import os\n",
    "from bs4 import BeautifulSoup\n",
    "from urllib.request import Request, urlopen\n",
    "from urllib.parse import urlparse\n",
    "import re\n",
    "\n",
    "logging.basicConfig(filename=\"log.txt\",\n",
    "                    filemode='a',\n",
    "                    format='%(asctime)s,%(msecs)d %(name)s %(levelname)s %(message)s',\n",
    "                    datefmt='%H:%M:%S',\n",
    "                    level=logging.DEBUG)\n",
    "logging.info(\"Starting download session\")\n",
    "\n",
    "# GET DATASET URLS\n",
    "req = Request(\"https://www.nyc.gov/site/tlc/about/tlc-trip-record-data.page\")\n",
    "html = urlopen(req)\n",
    "\n",
    "soup = BeautifulSoup(html, \"lxml\")\n",
    "all_urls = []\n",
    "for link in soup.findAll('a'):\n",
    "    all_urls.append(link.get('href'))\n",
    "\n",
    "# all the data is hosted on cloudfront urls only\n",
    "cloudfront_urls = [link for link in all_urls if \"cloudfront\" in link]\n",
    "\n",
    "# DOWNLOAD DATASET\n",
    "def download_file_from_url(url):\n",
    "    filename = os.path.basename(urlparse(url).path)\n",
    "    logging.info(f\"Started {filename} from {url}\")\n",
    "    resp = requests.get(url)\n",
    "    with open(filename, \"wb\") as f:\n",
    "        f.write(resp.content)\n",
    "    logging.info(f\"Finished {filename} from {url}\")\n",
    "\n",
    "# download files SEQUENTIALLY\n",
    "for url in cloudfront_urls:\n",
    "    download_file_from_url(url=url)"
   ]
  },
  {
   "cell_type": "code",
   "execution_count": null,
   "metadata": {},
   "outputs": [],
   "source": []
  }
 ],
 "metadata": {
  "kernelspec": {
   "display_name": ".venv",
   "language": "python",
   "name": "python3"
  },
  "language_info": {
   "codemirror_mode": {
    "name": "ipython",
    "version": 3
   },
   "file_extension": ".py",
   "mimetype": "text/x-python",
   "name": "python",
   "nbconvert_exporter": "python",
   "pygments_lexer": "ipython3",
   "version": "3.10.12"
  }
 },
 "nbformat": 4,
 "nbformat_minor": 2
}
